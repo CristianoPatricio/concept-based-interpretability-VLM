{
 "cells": [
  {
   "cell_type": "code",
   "execution_count": 1,
   "id": "5013f9fb-d099-41f3-bfa3-7939403bae9b",
   "metadata": {},
   "outputs": [],
   "source": [
    "import glob\n",
    "from timeit import default_timer as timer\n",
    "\n",
    "import numpy as np\n",
    "import torch\n",
    "import clip\n",
    "import hydra\n",
    "import omegaconf\n",
    "from PIL import Image\n",
    "from torch import nn\n",
    "import torchvision.transforms as T\n",
    "import scipy.special\n",
    "\n",
    "import pandas as pd\n",
    "from tqdm import tqdm\n",
    "import os\n",
    "from pathlib import Path"
   ]
  },
  {
   "cell_type": "code",
   "execution_count": 2,
   "id": "dbc0adc0-006f-4311-b4a2-64e25d57fb7d",
   "metadata": {},
   "outputs": [],
   "source": [
    "def convert_image_to_rgb(image):\n",
    "    return image.convert(\"RGB\")\n",
    "\n",
    "\n",
    "def _transform(\n",
    "        n_px=224,\n",
    "        norm_mean=(0.48145466, 0.4578275, 0.40821073),\n",
    "        norm_std=(0.26862954, 0.26130258, 0.27577711)):\n",
    "    return T.Compose([\n",
    "        T.RandomResizedCrop(\n",
    "            size=n_px,\n",
    "            scale=(0.7, 1.0),\n",
    "            ratio=(0.75, 1.33),\n",
    "            interpolation=T.InterpolationMode.BICUBIC,\n",
    "        ),\n",
    "        T.RandomVerticalFlip(p=0.5),\n",
    "        T.RandomHorizontalFlip(p=0.3),\n",
    "        convert_image_to_rgb,\n",
    "        T.RandomApply(\n",
    "            nn.ModuleList(\n",
    "                [\n",
    "                    T.ColorJitter(\n",
    "                        brightness=0.2,\n",
    "                        contrast=0.2,\n",
    "                        saturation=0.1,\n",
    "                        hue=0.0,\n",
    "                    )\n",
    "                ]\n",
    "            ),\n",
    "            p=1.0,\n",
    "        ),\n",
    "        T.ToTensor(),\n",
    "        T.Normalize(norm_mean, norm_std),\n",
    "    ])"
   ]
  },
  {
   "cell_type": "code",
   "execution_count": 3,
   "id": "94331173-6f32-4d81-b89b-4db23bdeca4b",
   "metadata": {},
   "outputs": [],
   "source": [
    "device = \"cuda\" if torch.cuda.is_available() else \"cpu\""
   ]
  },
  {
   "cell_type": "code",
   "execution_count": 4,
   "id": "c0a5da56-4dd9-4ea7-891b-80476b3d84c4",
   "metadata": {},
   "outputs": [],
   "source": [
    "# CONSTANTS\n",
    "MODEL = \"ViT-L-14\"\n",
    "DATASET = \"derm7pt\"\n",
    "ADDITIONAL_COMMENTS = \"CLASS_LABELS_PROMPTS\""
   ]
  },
  {
   "cell_type": "code",
   "execution_count": 6,
   "id": "d347ce54-6c22-4b00-a056-da8468d8603b",
   "metadata": {},
   "outputs": [
    {
     "name": "stdout",
     "output_type": "stream",
     "text": [
      "[INFO] Loading model...\n",
      "[INFO] Model loaded successfully!\n"
     ]
    }
   ],
   "source": [
    "# 1. Load Model\n",
    "model_name = \"zt0n2xd0\"\n",
    "\n",
    "print(\"[INFO] Loading model...\")\n",
    "cfg_model = omegaconf.OmegaConf.load(\"../configs/model/contrastive.yaml\")\n",
    "cfg_model.net.model_name_or_path = \"ViT-L/14\"\n",
    "cfg_model.net.device = device\n",
    "\n",
    "model = hydra.utils.instantiate(cfg_model)\n",
    "model.to(device)\n",
    "model.eval()\n",
    "\n",
    "model_path_dir = {\n",
    "    \"zt0n2xd0\": \"/home/cristianopatricio/Downloads/weight.pt\",\n",
    "}\n",
    "\n",
    "# Load model with saving weights\n",
    "model_path = model_path_dir[model_name]\n",
    "loaded = torch.load(model_path, map_location=device)\n",
    "model.load_state_dict(loaded)\n",
    "print('[INFO] Model loaded successfully!')"
   ]
  },
  {
   "cell_type": "code",
   "execution_count": 5,
   "id": "91860e0c-e038-48f1-b84b-8c2d77704a40",
   "metadata": {},
   "outputs": [],
   "source": [
    "CLASS_LABELS_PROMPTS = {\n",
    "    \"Melanoma\": [\"This is dermatoscopy of melanoma\"],\n",
    "    \"Nevus\": [\"This is dermatoscopy of nevus\"]\n",
    "}"
   ]
  },
  {
   "cell_type": "code",
   "execution_count": 8,
   "id": "195dbdf0-97af-4ef4-8f3f-28b6fa2db80f",
   "metadata": {
    "scrolled": true
   },
   "outputs": [
    {
     "name": "stdout",
     "output_type": "stream",
     "text": [
      "[INFO] Completed!\n"
     ]
    }
   ],
   "source": [
    "# Extract text features for each concept and save it to a numpy array\n",
    "for disease_label in CLASS_LABELS_PROMPTS.keys():\n",
    "    preprocess = _transform()\n",
    "    batch = {\n",
    "        \"text\": clip.tokenize(CLASS_LABELS_PROMPTS[disease_label]).to(device)\n",
    "    }\n",
    "\n",
    "    with torch.no_grad():\n",
    "        text_features = model.model_step_with_text(batch)[\"text_features\"]\n",
    "    \n",
    "    text_features /= text_features.norm(dim=-1, keepdim=True)\n",
    "    \n",
    "    np.save(f\"text_embeddings/class_label_embeddings_{disease_label}.npy\", text_features.detach().cpu().numpy())\n",
    "print(\"[INFO] Completed!\")"
   ]
  },
  {
   "cell_type": "code",
   "execution_count": 6,
   "id": "b7ed9720-298f-4975-b3f4-d8af698cade3",
   "metadata": {},
   "outputs": [],
   "source": [
    "from scipy.special import softmax\n",
    "\n",
    "def get_similarity_score(image_features, text_features):\n",
    "    similarity = np.dot(image_features, text_features.T)\n",
    "\n",
    "    return similarity"
   ]
  },
  {
   "cell_type": "code",
   "execution_count": 7,
   "id": "15c6c856-fc05-4cb9-984c-5589d7f891dd",
   "metadata": {},
   "outputs": [],
   "source": [
    "def calculate_similarity_score(image_features_norm,\n",
    "                               prompt_target_embedding_norm,\n",
    "                               prompt_ref_embedding_norm,\n",
    "                               temp=1,\n",
    "                               top_k=-1,\n",
    "                               normalize=True):\n",
    "\n",
    "    #rint(image_features_norm.shape)\n",
    "    #print(prompt_target_embedding_norm.shape)\n",
    "    #print(prompt_ref_embedding_norm.shape)\n",
    "\n",
    "    target_similarity = prompt_target_embedding_norm.float() @ image_features_norm.T.float()\n",
    "    ref_similarity = prompt_ref_embedding_norm.float() @ image_features_norm.T.float()\n",
    "\n",
    "\n",
    "    if top_k > 0:\n",
    "        idx_target = target_similarity.argsort(dim=1, descending=True)\n",
    "        target_similarity_mean = target_similarity[:,idx_target.squeeze()[:top_k]].mean(dim=1)\n",
    "        \n",
    "        ref_similarity_mean = ref_similarity.mean(dim=1)\n",
    "    else:\n",
    "        target_similarity_mean = target_similarity.mean(dim=1)\n",
    "        ref_similarity_mean = ref_similarity.mean(dim=1)\n",
    "    \n",
    "    if normalize:\n",
    "        similarity_score = scipy.special.softmax([target_similarity_mean.numpy(), ref_similarity_mean.numpy()], axis=0)[0, :].mean(axis=0)\n",
    "    else:\n",
    "        similarity_score = target_similarity_mean.mean(axis=0)\n",
    "\n",
    "    return similarity_score"
   ]
  },
  {
   "cell_type": "code",
   "execution_count": 15,
   "id": "d82b8832-b4d9-47c1-8e0f-4ad9ada6ae53",
   "metadata": {},
   "outputs": [
    {
     "name": "stdout",
     "output_type": "stream",
     "text": [
      "[INFO] DATASET: derm7pt\n"
     ]
    }
   ],
   "source": [
    "# Get image embeddings \n",
    "print(f\"[INFO] DATASET: {DATASET}\")\n",
    "img_embeddings = np.load(f\"img_embeddings/image_embeddings_{DATASET}_MONET_{MODEL}_Segmented_Norm.npy\", allow_pickle=True).item()\n",
    "reference_embeddings = torch.from_numpy(np.load(f\"concept_embeddings/reference_concept_embeddings.npy\")).unsqueeze(0)\n",
    "\n",
    "results = dict()\n",
    "# Iterate over images and calculate similarity\n",
    "for im in img_embeddings.keys():\n",
    "    img_feats = torch.from_numpy(img_embeddings[im]).unsqueeze(0)\n",
    "    #print(f\"IMG shape: {img_feats.shape}\")\n",
    "\n",
    "    similarity_scores = []\n",
    "    for disease_label in CLASS_LABELS_PROMPTS.keys():\n",
    "        text_feats = torch.from_numpy(np.load(f\"text_embeddings/class_label_embeddings_{disease_label}.npy\")).unsqueeze(0)\n",
    "        # For FT\n",
    "        #text_feats = torch.from_numpy(np.load(f\"text_embeddings/class_label_embeddings_{disease_label}_MONET_{MODEL}.npy\")).unsqueeze(0)\n",
    "        #print(f\"TEXT shape: {text_feats.shape}\")\n",
    "\n",
    "        #similarity = get_similarity_score(img_feats, text_feats)\n",
    "        similarity = calculate_similarity_score(image_features_norm=img_feats,\n",
    "                                                prompt_target_embedding_norm=text_feats,\n",
    "                                                prompt_ref_embedding_norm=reference_embeddings,\n",
    "                                                top_k=-1,\n",
    "                                                temp=(1/np.exp(4.5944)),\n",
    "                                                normalize=True)\n",
    "\n",
    "        similarity_scores.append(similarity[0])\n",
    "\n",
    "    # Calculate prediction given weights of melanoma\n",
    "    results[im] = similarity_scores"
   ]
  },
  {
   "cell_type": "code",
   "execution_count": 16,
   "id": "42832ce5-76a9-41d6-a050-0dde5abd31f6",
   "metadata": {},
   "outputs": [
    {
     "name": "stdout",
     "output_type": "stream",
     "text": [
      "Threshold value is: 0.50525546\n",
      "              precision    recall  f1-score   support\n",
      "\n",
      "         MEL       0.72      0.84      0.78       219\n",
      "         NEV       0.46      0.29      0.35       101\n",
      "\n",
      "    accuracy                           0.67       320\n",
      "   macro avg       0.59      0.57      0.57       320\n",
      "weighted avg       0.64      0.67      0.64       320\n",
      "\n",
      "[[185  34]\n",
      " [ 72  29]]\n",
      "AUC: 0.6340702563407026\n",
      "BACC: 0.5659387856593878\n",
      "Sensitivity: 0.2871287128712871\n",
      "Specificity: 0.8447488584474886\n"
     ]
    }
   ],
   "source": [
    "# Evaluation\n",
    "from sklearn.metrics import classification_report, confusion_matrix, roc_curve, balanced_accuracy_score, auc\n",
    "\n",
    "if DATASET == \"PH2\":\n",
    "    gt = pd.read_csv(\"/home/cristianopatricio/Desktop/PhD/Datasets/Skin/PH2Dataset/PH2_dataset.csv\")\n",
    "    \n",
    "    train_images_df = pd.read_csv(\"/home/cristianopatricio/Desktop/PhD/Methods/CCNN_Pytorch/data/PH2_train.csv\")\n",
    "    train_images = train_images_df[\"images\"].tolist()\n",
    "    \n",
    "    valiadtion_images_df = pd.read_csv(\"/home/cristianopatricio/Desktop/PhD/Methods/CCNN_Pytorch/data/PH2_validation.csv\")\n",
    "    validation_images = valiadtion_images_df[\"images\"].tolist()\n",
    "    \n",
    "    test_images_df = pd.read_csv(\"/home/cristianopatricio/Desktop/PhD/Methods/CCNN_Pytorch/data/PH2_test.csv\")\n",
    "    test_images = test_images_df[\"images\"].tolist()\n",
    "\n",
    "elif DATASET == \"derm7pt\":\n",
    "    gt = pd.read_csv(\"/home/cristianopatricio/Desktop/PhD/Datasets/Skin/Derm7pt/image_classes_derm7pt.csv\")\n",
    "    \n",
    "    train_images_df = pd.read_csv(\"/home/cristianopatricio/Desktop/PhD/Methods/CCNN_Pytorch/data/derm7pt_train_seg.csv\")\n",
    "    train_images = train_images_df[\"images\"].tolist()\n",
    "    \n",
    "    valiadtion_images_df = pd.read_csv(\"/home/cristianopatricio/Desktop/PhD/Methods/CCNN_Pytorch/data/derm7pt_validation_seg.csv\")\n",
    "    validation_images = valiadtion_images_df[\"images\"].tolist()\n",
    "    \n",
    "    test_images_df = pd.read_csv(\"/home/cristianopatricio/Desktop/PhD/Methods/CCNN_Pytorch/data/derm7pt_test_seg.csv\")\n",
    "    test_images = test_images_df[\"images\"].tolist()\n",
    "\n",
    "\n",
    "y_true_val = []\n",
    "y_pred_probs_val = []\n",
    "for im in results.keys():\n",
    "\n",
    "    if str(im) in validation_images:\n",
    "        y_true_val.append(gt.loc[gt['images'] == str(im)]['labels'].tolist()[0])\n",
    "        y_pred_probs_val.append(np.max(results[im]))\n",
    "\n",
    "fpr, tpr, thresholds = roc_curve(y_true_val, y_pred_probs_val)\n",
    "optimal_idx = np.argmax(tpr - fpr)\n",
    "optimal_threshold = thresholds[optimal_idx]\n",
    "print(\"Threshold value is:\", optimal_threshold)\n",
    "\n",
    "y_true = []\n",
    "y_pred = []\n",
    "y_pred_probs = []\n",
    "for im in results.keys():\n",
    "    \n",
    "    if str(im) in test_images:\n",
    "        y_true.append(gt.loc[gt['images'] == str(im)]['labels'].tolist()[0])\n",
    "        y_pred.append(1 if np.max(results[im]) > optimal_threshold else 0)\n",
    "        y_pred_probs.append(np.max(results[im]))\n",
    "\n",
    "print(classification_report(y_true=y_true, y_pred=y_pred, target_names=[\"MEL\", \"NEV\"]))\n",
    "\n",
    "# Calculate the confusion matrix\n",
    "conf_matrix = confusion_matrix(y_true, y_pred)\n",
    "TP = conf_matrix[1][1]\n",
    "TN = conf_matrix[0][0]\n",
    "FP = conf_matrix[0][1]\n",
    "FN = conf_matrix[1][0]\n",
    "print(conf_matrix)\n",
    "\n",
    "# Calculate AUC score\n",
    "fpr, tpr, thresholds = roc_curve(y_true, y_pred_probs)\n",
    "roc_auc = auc(fpr, tpr)\n",
    "print(f\"AUC: {roc_auc}\")\n",
    "\n",
    "# BACC\n",
    "bacc = balanced_accuracy_score(y_true, y_pred)\n",
    "print(f\"BACC: {bacc}\")\n",
    "\n",
    "# Sensitivity\n",
    "SE = TP / (TP + FN)\n",
    "print(f\"Sensitivity: {SE}\")\n",
    "\n",
    "# Specificity\n",
    "SP = TN / (TN + FP)\n",
    "print(f\"Specificity: {SP}\")"
   ]
  },
  {
   "cell_type": "code",
   "execution_count": 43,
   "id": "4217b33c-fc38-436e-a22e-059e7911288f",
   "metadata": {},
   "outputs": [
    {
     "data": {
      "image/png": "[encoded data removed]",
      "text/plain": [
       "<Figure size 1000x1000 with 1 Axes>"
      ]
     },
     "metadata": {},
     "output_type": "display_data"
    }
   ],
   "source": [
    "# Plot ROC AUC curve\n",
    "import matplotlib.pyplot as plt\n",
    "\n",
    "plt.subplots(1, figsize=(10,10))\n",
    "plt.title('ROC Curve - MEL/NEV classification')\n",
    "plt.plot(fpr, tpr)\n",
    "plt.plot([0, 1], ls=\"--\")\n",
    "plt.plot([0, 0], [1, 0] , c=\".7\"), plt.plot([1, 1] , c=\".7\")\n",
    "plt.ylabel('True Positive Rate')\n",
    "plt.xlabel('False Positive Rate')\n",
    "plt.show()"
   ]
  },
  {
   "cell_type": "code",
   "execution_count": null,
   "id": "6b509d7b-5cc1-4d5e-b0a1-6cdb64b75a79",
   "metadata": {},
   "outputs": [],
   "source": []
  },
  {
   "cell_type": "code",
   "execution_count": null,
   "id": "2a190426-42f9-40ed-ad24-42a113eefcfa",
   "metadata": {},
   "outputs": [],
   "source": []
  }
 ],
 "metadata": {
  "kernelspec": {
   "display_name": "Python 3 (ipykernel)",
   "language": "python",
   "name": "python3"
  },
  "language_info": {
   "codemirror_mode": {
    "name": "ipython",
    "version": 3
   },
   "file_extension": ".py",
   "mimetype": "text/x-python",
   "name": "python",
   "nbconvert_exporter": "python",
   "pygments_lexer": "ipython3",
   "version": "3.9.17"
  }
 },
 "nbformat": 4,
 "nbformat_minor": 5
}
