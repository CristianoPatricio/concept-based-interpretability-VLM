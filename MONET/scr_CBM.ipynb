{
 "cells": [
  {
   "cell_type": "code",
   "execution_count": 1,
   "id": "6a120351-ad1c-4633-89c1-a30c51bb0244",
   "metadata": {},
   "outputs": [],
   "source": [
    "import glob\n",
    "from timeit import default_timer as timer\n",
    "\n",
    "import numpy as np\n",
    "import torch\n",
    "import clip\n",
    "import hydra\n",
    "import omegaconf\n",
    "from PIL import Image\n",
    "from torch import nn\n",
    "import torchvision.transforms as T\n",
    "import scipy.special\n",
    "\n",
    "import pandas as pd\n",
    "from tqdm import tqdm\n",
    "import os\n",
    "from pathlib import Path"
   ]
  },
  {
   "cell_type": "code",
   "execution_count": 2,
   "id": "bf2a4a82-a5b0-4c1f-97c5-2e298d00ebf0",
   "metadata": {},
   "outputs": [],
   "source": [
    "def convert_image_to_rgb(image):\n",
    "    return image.convert(\"RGB\")\n",
    "\n",
    "\n",
    "def _transform(\n",
    "        n_px=224,\n",
    "        norm_mean=(0.48145466, 0.4578275, 0.40821073),\n",
    "        norm_std=(0.26862954, 0.26130258, 0.27577711)):\n",
    "    return T.Compose([\n",
    "        T.RandomResizedCrop(\n",
    "            size=n_px,\n",
    "            scale=(0.7, 1.0),\n",
    "            ratio=(0.75, 1.33),\n",
    "            interpolation=T.InterpolationMode.BICUBIC,\n",
    "        ),\n",
    "        T.RandomVerticalFlip(p=0.5),\n",
    "        T.RandomHorizontalFlip(p=0.3),\n",
    "        convert_image_to_rgb,\n",
    "        T.RandomApply(\n",
    "            nn.ModuleList(\n",
    "                [\n",
    "                    T.ColorJitter(\n",
    "                        brightness=0.2,\n",
    "                        contrast=0.2,\n",
    "                        saturation=0.1,\n",
    "                        hue=0.0,\n",
    "                    )\n",
    "                ]\n",
    "            ),\n",
    "            p=1.0,\n",
    "        ),\n",
    "        T.ToTensor(),\n",
    "        T.Normalize(norm_mean, norm_std),\n",
    "    ])"
   ]
  },
  {
   "cell_type": "code",
   "execution_count": 3,
   "id": "826a0764-a93e-4cbe-963f-912941b7839e",
   "metadata": {},
   "outputs": [],
   "source": [
    "device = \"cuda\" if torch.cuda.is_available() else \"cpu\""
   ]
  },
  {
   "cell_type": "code",
   "execution_count": 4,
   "id": "e564a32b-83b4-425d-b559-dfa9384f8a1c",
   "metadata": {},
   "outputs": [],
   "source": [
    "# CONSTANTS\n",
    "MODEL = \"ViT-L-14\"\n",
    "DATASET = \"ISIC_2018\"\n",
    "ADDITIONAL_COMMENTS = \"CONCEPT_PROMPTS_8\""
   ]
  },
  {
   "cell_type": "code",
   "execution_count": 5,
   "id": "fc4e7004-41e6-4e82-a813-b6de74308b1c",
   "metadata": {},
   "outputs": [
    {
     "name": "stdout",
     "output_type": "stream",
     "text": [
      "[INFO] Loading model...\n",
      "[INFO] Model loaded successfully!\n"
     ]
    }
   ],
   "source": [
    "# 1. Load Model\n",
    "model_name = \"zt0n2xd0\"\n",
    "\n",
    "print(\"[INFO] Loading model...\")\n",
    "cfg_model = omegaconf.OmegaConf.load(\"../configs/model/contrastive.yaml\")\n",
    "cfg_model.net.model_name_or_path = \"ViT-L/14\"\n",
    "cfg_model.net.device = device\n",
    "\n",
    "model = hydra.utils.instantiate(cfg_model)\n",
    "model.to(device)\n",
    "model.eval()\n",
    "\n",
    "model_path_dir = {\n",
    "    \"zt0n2xd0\": \"/home/cristianopatricio/Downloads/weight.pt\",\n",
    "}\n",
    "\n",
    "# Load model with saving weights\n",
    "model_path = model_path_dir[model_name]\n",
    "loaded = torch.load(model_path, map_location=device)\n",
    "model.load_state_dict(loaded)\n",
    "print('[INFO] Model loaded successfully!')"
   ]
  },
  {
   "cell_type": "code",
   "execution_count": 6,
   "id": "969b1abe-ab4f-4668-8be9-f04e20a370c2",
   "metadata": {},
   "outputs": [],
   "source": [
    "CONCEPT_PROMPTS_8 = {\n",
    "    \"TPN\": [\"This is dermatoscopy of typical pigment network\"],\n",
    "    \"APN\": [\"This is dermatoscopy of atypical pigment network\"],\n",
    "    \"ISTR\": [\"This is dermatoscopy of irregular streaks\"],\n",
    "    \"RSTR\": [\"This is dermatoscopy of regular streaks\"],\n",
    "    \"RDG\": [\"This is dermatoscopy of regular dots and globules\"],\n",
    "    \"IDG\": [\"This is dermatoscopy of irregular dots and globules\"],\n",
    "    \"BWV\": [\"This is dermatoscopy of blue-whitish veils\"],\n",
    "    \"RS\": [\"This is dermatoscopy of regression structures\"]\n",
    "}"
   ]
  },
  {
   "cell_type": "code",
   "execution_count": 7,
   "id": "5498556c-ad7c-4335-b04c-f05a7e49c393",
   "metadata": {},
   "outputs": [],
   "source": [
    "REFERENCE_CONCEPT_PROMPTS = [\"This is dermatoscopy\"]"
   ]
  },
  {
   "cell_type": "code",
   "execution_count": 8,
   "id": "853a5eaf-8d90-41ba-99cf-ca60f481d3dc",
   "metadata": {},
   "outputs": [
    {
     "name": "stdout",
     "output_type": "stream",
     "text": [
      "[INFO] Completed!\n"
     ]
    }
   ],
   "source": [
    "# Extract text features for each concept and save it to a numpy array\n",
    "for concept in CONCEPT_PROMPTS_8.keys():\n",
    "    preprocess = _transform()\n",
    "    batch = {\n",
    "        \"text\": clip.tokenize(CONCEPT_PROMPTS_8[concept]).to(device)\n",
    "    }\n",
    "\n",
    "    with torch.no_grad():\n",
    "        text_features = model.model_step_with_text(batch)[\"text_features\"]\n",
    "    \n",
    "    text_features /= text_features.norm(dim=-1, keepdim=True)\n",
    "    \n",
    "    np.save(f\"concept_embeddings/concept_8_embeddings_{concept}.npy\", text_features.detach().cpu().numpy())\n",
    "print(\"[INFO] Completed!\")"
   ]
  },
  {
   "cell_type": "code",
   "execution_count": 9,
   "id": "ef969856-8ff9-4b1c-b7b6-621ff4400410",
   "metadata": {},
   "outputs": [],
   "source": [
    "from scipy.special import softmax\n",
    "\n",
    "def get_similarity_score(image_features, text_features):\n",
    "    similarity = np.dot(image_features, text_features.T)\n",
    "    softmax_logits = softmax(similarity)\n",
    "    top_k_mean = np.mean(softmax_logits[np.argsort(softmax_logits)[::-1][:2]])\n",
    "\n",
    "    return top_k_mean\n",
    "    "
   ]
  },
  {
   "cell_type": "code",
   "execution_count": 10,
   "id": "434a68ae-c830-42a7-868d-2c471abc896b",
   "metadata": {},
   "outputs": [],
   "source": [
    "def calculate_similarity_score(image_features_norm,\n",
    "                               prompt_target_embedding_norm,\n",
    "                               prompt_ref_embedding_norm,\n",
    "                               temp=1,\n",
    "                               top_k=-1,\n",
    "                               normalize=True):\n",
    "\n",
    "    #print(image_features_norm.shape)\n",
    "    #print(prompt_target_embedding_norm.shape)\n",
    "    #print(prompt_ref_embedding_norm.shape)\n",
    "\n",
    "    target_similarity = prompt_target_embedding_norm.float() @ image_features_norm.T.float()\n",
    "    ref_similarity = prompt_ref_embedding_norm.float() @ image_features_norm.T.float()\n",
    "\n",
    "\n",
    "    if top_k > 0:\n",
    "        idx_target = target_similarity.argsort(dim=1, descending=True)\n",
    "        target_similarity_mean = target_similarity[:,idx_target.squeeze()[:top_k]].mean(dim=1)\n",
    "        \n",
    "        ref_similarity_mean = ref_similarity.mean(dim=1)\n",
    "    else:\n",
    "        target_similarity_mean = target_similarity.mean(dim=1)\n",
    "        ref_similarity_mean = ref_similarity.mean(dim=1)\n",
    "    \n",
    "    if normalize:\n",
    "        similarity_score = scipy.special.softmax([target_similarity_mean.numpy() / temp, ref_similarity_mean.numpy() / temp], axis=0)[0, :].mean(axis=0)\n",
    "    else:\n",
    "        similarity_score = target_similarity_mean.mean(axis=0)\n",
    "\n",
    "    return similarity_score"
   ]
  },
  {
   "cell_type": "code",
   "execution_count": 12,
   "id": "aa7ea41d-4fd6-48ac-8401-cb6e02b252c6",
   "metadata": {},
   "outputs": [
    {
     "name": "stdout",
     "output_type": "stream",
     "text": [
      "[INFO] DATASET: ISIC_2018\n"
     ]
    }
   ],
   "source": [
    "# Get image embeddings \n",
    "print(f\"[INFO] DATASET: {DATASET}\")\n",
    "img_embeddings = np.load(f\"img_embeddings/image_embeddings_{DATASET}_MONET_ViT-L-14_Segmented_Norm.npy\", allow_pickle=True).item()\n",
    "reference_embeddings = torch.from_numpy(np.load(f\"concept_embeddings/reference_concept_embeddings.npy\")).unsqueeze(0)\n",
    "weights_melanoma = np.load(\"/home/cristianopatricio/Desktop/PhD/Datasets/Skin/PH2Dataset/19-JUL-2023/log_reg_coefs_PH2_8_concepts.npy\") # (1, 11)\n",
    "\n",
    "results = dict()\n",
    "# Iterate over images and calculate similarity\n",
    "for im in img_embeddings.keys():\n",
    "    img_feats = torch.from_numpy(img_embeddings[im]).unsqueeze(0)\n",
    "    #print(f\"IMG shape: {img_feats.shape}\")\n",
    "\n",
    "    similarity_scores = []\n",
    "    for concept in CONCEPT_PROMPTS_8.keys():\n",
    "        text_feats = torch.from_numpy(np.load(f\"concept_embeddings/concept_8_embeddings_{concept}.npy\")).unsqueeze(0)\n",
    "        #print(f\"TEXT shape: {text_feats.shape}\")\n",
    "\n",
    "        similarity = calculate_similarity_score(image_features_norm=img_feats,\n",
    "                                                prompt_target_embedding_norm=text_feats,\n",
    "                                                prompt_ref_embedding_norm=reference_embeddings,\n",
    "                                                top_k=-1,\n",
    "                                                temp=(1/np.exp(4.5944)))\n",
    "        \n",
    "        similarity_scores.append(similarity[0])\n",
    "\n",
    "    # Calculate prediction given weights of melanoma\n",
    "    y_pred = np.dot(weights_melanoma, np.array(similarity_scores))\n",
    "    results[im] = y_pred"
   ]
  },
  {
   "cell_type": "code",
   "execution_count": 13,
   "id": "67a5b620-fece-4d16-a947-e36e03e4b135",
   "metadata": {},
   "outputs": [
    {
     "name": "stdout",
     "output_type": "stream",
     "text": [
      "Threshold value is: 0.4147240974345071\n",
      "              precision    recall  f1-score   support\n",
      "\n",
      "         MEL       0.94      0.46      0.61      1340\n",
      "         NEV       0.15      0.75      0.25       171\n",
      "\n",
      "    accuracy                           0.49      1511\n",
      "   macro avg       0.54      0.61      0.43      1511\n",
      "weighted avg       0.85      0.49      0.57      1511\n",
      "\n",
      "[[612 728]\n",
      " [ 42 129]]\n",
      "AUC: 0.6481059614209653\n",
      "BACC: 0.6055511914113643\n",
      "Sensitivity: 0.7543859649122807\n",
      "Specificity: 0.45671641791044776\n"
     ]
    }
   ],
   "source": [
    "# Evaluation\n",
    "\n",
    "from sklearn.metrics import classification_report, confusion_matrix, roc_curve, balanced_accuracy_score, auc\n",
    "\n",
    "if DATASET == \"PH2\":\n",
    "    gt = pd.read_csv(\"/home/cristianopatricio/Desktop/PhD/Datasets/Skin/PH2Dataset/PH2_dataset.csv\")\n",
    "    \n",
    "    train_images_df = pd.read_csv(\"/home/cristianopatricio/Desktop/PhD/Methods/CCNN_Pytorch/data/PH2_train.csv\")\n",
    "    train_images = train_images_df[\"images\"].tolist()\n",
    "    \n",
    "    valiadtion_images_df = pd.read_csv(\"/home/cristianopatricio/Desktop/PhD/Methods/CCNN_Pytorch/data/PH2_validation.csv\")\n",
    "    validation_images = valiadtion_images_df[\"images\"].tolist()\n",
    "    \n",
    "    test_images_df = pd.read_csv(\"/home/cristianopatricio/Desktop/PhD/Methods/CCNN_Pytorch/data/PH2_test.csv\")\n",
    "    test_images = test_images_df[\"images\"].tolist()\n",
    "\n",
    "elif DATASET == \"derm7pt\":\n",
    "    gt = pd.read_csv(\"/home/cristianopatricio/Desktop/PhD/Datasets/Skin/Derm7pt/image_classes_derm7pt.csv\")\n",
    "    \n",
    "    train_images_df = pd.read_csv(\"/home/cristianopatricio/Desktop/PhD/Methods/CCNN_Pytorch/data/derm7pt_train_seg.csv\")\n",
    "    train_images = train_images_df[\"images\"].tolist()\n",
    "    \n",
    "    valiadtion_images_df = pd.read_csv(\"/home/cristianopatricio/Desktop/PhD/Methods/CCNN_Pytorch/data/derm7pt_validation_seg.csv\")\n",
    "    validation_images = valiadtion_images_df[\"images\"].tolist()\n",
    "    \n",
    "    test_images_df = pd.read_csv(\"/home/cristianopatricio/Desktop/PhD/Methods/CCNN_Pytorch/data/derm7pt_test_seg.csv\")\n",
    "    test_images = test_images_df[\"images\"].tolist()\n",
    "\n",
    "elif DATASET == \"ISIC_2018\":\n",
    "    gt = pd.read_csv(\"/home/cristianopatricio/Desktop/PhD/Datasets/Skin/HAM10000/image_classes_ISIC_2018.csv\")\n",
    "    \n",
    "    train_images_df = pd.read_csv(\"/home/cristianopatricio/Desktop/PhD/Datasets/Skin/HAM10000/ISIC_2018_train.csv\")\n",
    "    train_images = train_images_df[\"images\"].tolist()\n",
    "    \n",
    "    valiadtion_images_df = pd.read_csv(\"/home/cristianopatricio/Desktop/PhD/Datasets/Skin/HAM10000/ISIC_2018_validation.csv\")\n",
    "    validation_images = valiadtion_images_df[\"images\"].tolist()\n",
    "    \n",
    "    test_images_df = pd.read_csv(\"/home/cristianopatricio/Desktop/PhD/Datasets/Skin/HAM10000/ISIC_2018_test.csv\")\n",
    "    test_images = test_images_df[\"images\"].tolist()\n",
    "\n",
    "\n",
    "y_true_val = []\n",
    "y_pred_probs_val = []\n",
    "for im in results.keys():\n",
    "\n",
    "    if str(im) in validation_images:\n",
    "        if DATASET == \"ISIC_2018\":\n",
    "            y_true_val.append(1 if gt.loc[gt['images'] == str(im)]['labels'].tolist()[0] == 3 else 0)\n",
    "        else:\n",
    "            y_true_val.append(gt.loc[gt['images'] == str(im)]['labels'].tolist()[0])\n",
    "        y_pred_probs_val.append(results[im])\n",
    "\n",
    "fpr, tpr, thresholds = roc_curve(y_true_val, y_pred_probs_val)\n",
    "optimal_idx = np.argmax(tpr - fpr)\n",
    "optimal_threshold = thresholds[optimal_idx]\n",
    "print(\"Threshold value is:\", optimal_threshold)\n",
    "\n",
    "y_true = []\n",
    "y_pred = []\n",
    "y_pred_probs = []\n",
    "for im in results.keys():\n",
    "    \n",
    "    if str(im) in test_images:\n",
    "        if DATASET == \"ISIC_2018\":\n",
    "            y_true.append(1 if gt.loc[gt['images'] == str(im)]['labels'].tolist()[0] == 3 else 0)\n",
    "        else:\n",
    "            y_true.append(gt.loc[gt['images'] == str(im)]['labels'].tolist()[0])\n",
    "        y_pred.append(1 if results[im] > optimal_threshold else 0)\n",
    "        y_pred_probs.append(results[im])\n",
    "\n",
    "print(classification_report(y_true=y_true, y_pred=y_pred, target_names=[\"MEL\", \"NEV\"]))\n",
    "\n",
    "# Calculate the confusion matrix\n",
    "conf_matrix = confusion_matrix(y_true, y_pred)\n",
    "TP = conf_matrix[1][1]\n",
    "TN = conf_matrix[0][0]\n",
    "FP = conf_matrix[0][1]\n",
    "FN = conf_matrix[1][0]\n",
    "print(conf_matrix)\n",
    "\n",
    "# Calculate AUC score\n",
    "fpr, tpr, thresholds = roc_curve(y_true, y_pred_probs)\n",
    "roc_auc = auc(fpr, tpr)\n",
    "print(f\"AUC: {roc_auc}\")\n",
    "\n",
    "# BACC\n",
    "bacc = balanced_accuracy_score(y_true, y_pred)\n",
    "print(f\"BACC: {bacc}\")\n",
    "\n",
    "# Sensitivity\n",
    "SE = TP / (TP + FN)\n",
    "print(f\"Sensitivity: {SE}\")\n",
    "\n",
    "# Specificity\n",
    "SP = TN / (TN + FP)\n",
    "print(f\"Specificity: {SP}\")"
   ]
  },
  {
   "cell_type": "code",
   "execution_count": 14,
   "id": "241eb868-acc9-4b36-911a-a543c5ed731f",
   "metadata": {},
   "outputs": [
    {
     "data": {
      "image/png": "[encoded data removed]",
      "text/plain": [
       "<Figure size 1000x1000 with 1 Axes>"
      ]
     },
     "metadata": {},
     "output_type": "display_data"
    }
   ],
   "source": [
    "# Plot ROC AUC curve\n",
    "import matplotlib.pyplot as plt\n",
    "\n",
    "plt.subplots(1, figsize=(10,10))\n",
    "plt.title('Receiver Operating Characteristic - Logistic regression')\n",
    "plt.plot(fpr, tpr)\n",
    "plt.plot([0, 1], ls=\"--\")\n",
    "plt.plot([0, 0], [1, 0] , c=\".7\"), plt.plot([1, 1] , c=\".7\")\n",
    "plt.ylabel('True Positive Rate')\n",
    "plt.xlabel('False Positive Rate')\n",
    "plt.show()"
   ]
  },
  {
   "cell_type": "code",
   "execution_count": null,
   "id": "8baf80a0-0161-4d4d-aee3-2f9d93b2a708",
   "metadata": {},
   "outputs": [],
   "source": []
  }
 ],
 "metadata": {
  "kernelspec": {
   "display_name": "Python 3 (ipykernel)",
   "language": "python",
   "name": "python3"
  },
  "language_info": {
   "codemirror_mode": {
    "name": "ipython",
    "version": 3
   },
   "file_extension": ".py",
   "mimetype": "text/x-python",
   "name": "python",
   "nbconvert_exporter": "python",
   "pygments_lexer": "ipython3",
   "version": "3.9.17"
  }
 },
 "nbformat": 4,
 "nbformat_minor": 5
}
