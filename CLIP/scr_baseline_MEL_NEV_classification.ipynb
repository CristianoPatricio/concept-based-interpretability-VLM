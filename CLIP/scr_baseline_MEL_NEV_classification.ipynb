{
 "cells": [
  {
   "cell_type": "code",
   "execution_count": 1,
   "id": "5013f9fb-d099-41f3-bfa3-7939403bae9b",
   "metadata": {},
   "outputs": [],
   "source": [
    "import glob\n",
    "from timeit import default_timer as timer\n",
    "\n",
    "import torch\n",
    "import clip\n",
    "from PIL import Image\n",
    "\n",
    "import numpy as np\n",
    "import pandas as pd\n",
    "from tqdm import tqdm\n",
    "import os\n",
    "from pathlib import Path\n",
    "import matplotlib.pyplot as plt\n",
    "import scipy.special"
   ]
  },
  {
   "cell_type": "code",
   "execution_count": 2,
   "id": "94331173-6f32-4d81-b89b-4db23bdeca4b",
   "metadata": {},
   "outputs": [],
   "source": [
    "device = \"cuda\" if torch.cuda.is_available() else \"cpu\""
   ]
  },
  {
   "cell_type": "code",
   "execution_count": 25,
   "id": "c0a5da56-4dd9-4ea7-891b-80476b3d84c4",
   "metadata": {},
   "outputs": [],
   "source": [
    "# CONSTANTS\n",
    "MODEL = \"ViT-L-14\"\n",
    "DATASET = \"PH2\"\n",
    "ADDITIONAL_COMMENTS = \"CLASS_LABELS_PROMPTS\""
   ]
  },
  {
   "cell_type": "code",
   "execution_count": 4,
   "id": "d347ce54-6c22-4b00-a056-da8468d8603b",
   "metadata": {},
   "outputs": [
    {
     "name": "stdout",
     "output_type": "stream",
     "text": [
      "[INFO] Loading model...\n",
      "[INFO] Model loaded successfully!\n"
     ]
    }
   ],
   "source": [
    "# 1. Load Model and Processor\n",
    "print(\"[INFO] Loading model...\")\n",
    "\n",
    "if MODEL == \"ViT-B-32\":\n",
    "    model, preprocess = clip.load(\"ViT-B/32\", device=device)\n",
    "elif MODEL == \"ViT-B-16\":\n",
    "    model, preprocess = clip.load(\"ViT-B/16\", device=device)\n",
    "elif MODEL == \"RN50\":\n",
    "    model, preprocess = clip.load(\"RN50\", device=device)\n",
    "elif MODEL == \"RN101\":\n",
    "    model, preprocess = clip.load(\"RN101\", device=device)\n",
    "elif MODEL == \"ViT-L-14\":\n",
    "    model, preprocess = clip.load(\"ViT-L/14\", device=device)\n",
    "elif MODEL == \"RN50x16\":\n",
    "    model, preprocess = clip.load(\"RN50x16\", device=device)\n",
    "elif MODEL == \"ViT-B-32-FT\":\n",
    "    model, preprocess = clip.load(\"ViT-B/32\", device=device)\n",
    "    checkpoint = torch.load(\"ft_models/CLIP_D7PT_ViT-B-32_best.pt\")\n",
    "    model.load_state_dict(checkpoint['model_state_dict'])\n",
    "elif MODEL == \"ViT-B-16-FT\":\n",
    "    model, preprocess = clip.load(\"ViT-B/16\", device=device)\n",
    "    checkpoint = torch.load(\"ft_models/model_D7PT_ViT16.pt\")\n",
    "    model.load_state_dict(checkpoint['model_state_dict'])\n",
    "\n",
    "print(\"[INFO] Model loaded successfully!\")"
   ]
  },
  {
   "cell_type": "code",
   "execution_count": 5,
   "id": "91860e0c-e038-48f1-b84b-8c2d77704a40",
   "metadata": {},
   "outputs": [],
   "source": [
    "CLASS_LABELS_PROMPTS = {\n",
    "    \"Melanoma\": [\"This is dermatoscopy of melanoma\"],\n",
    "    \"Nevus\": [\"This is dermatoscopy of nevus\"]\n",
    "}"
   ]
  },
  {
   "cell_type": "code",
   "execution_count": 6,
   "id": "9d4d7799-7adf-4f22-8d7b-f1378537fd76",
   "metadata": {},
   "outputs": [],
   "source": [
    "REFERENCE_CONCEPT_PROMPTS = [\"This is dermatoscopy\"]"
   ]
  },
  {
   "cell_type": "code",
   "execution_count": 7,
   "id": "195dbdf0-97af-4ef4-8f3f-28b6fa2db80f",
   "metadata": {
    "scrolled": true
   },
   "outputs": [
    {
     "name": "stdout",
     "output_type": "stream",
     "text": [
      "[INFO] Completed!\n"
     ]
    }
   ],
   "source": [
    "# Extract text features for each concept and save it to a numpy array\n",
    "for disease_label in CLASS_LABELS_PROMPTS.keys():\n",
    "    text = clip.tokenize(CLASS_LABELS_PROMPTS[disease_label]).to(device)\n",
    "\n",
    "    with torch.no_grad():\n",
    "        text_features = model.encode_text(text)\n",
    "    \n",
    "    text_features /= text_features.norm(dim=-1, keepdim=True)\n",
    "    \n",
    "    np.save(f\"text_embeddings/class_label_embeddings_{disease_label}_{MODEL}.npy\", text_features.detach().cpu().numpy())\n",
    "print(\"[INFO] Completed!\")"
   ]
  },
  {
   "cell_type": "code",
   "execution_count": 8,
   "id": "5c868482-7d40-4fe3-a05f-0ff850557e57",
   "metadata": {},
   "outputs": [
    {
     "name": "stdout",
     "output_type": "stream",
     "text": [
      "[INFO] Completed!\n"
     ]
    }
   ],
   "source": [
    "# Extract text features for each concept and save it to a numpy array\n",
    "text = clip.tokenize(REFERENCE_CONCEPT_PROMPTS).to(device)\n",
    "with torch.no_grad():\n",
    "    text_features = model.encode_text(text)\n",
    "\n",
    "text_features /= text_features.norm(dim=-1, keepdim=True)\n",
    "\n",
    "np.save(f\"concept_embeddings/reference_embeddings_{MODEL}.npy\", text_features.detach().cpu().numpy())\n",
    "print(\"[INFO] Completed!\")"
   ]
  },
  {
   "cell_type": "code",
   "execution_count": 9,
   "id": "b7ed9720-298f-4975-b3f4-d8af698cade3",
   "metadata": {},
   "outputs": [],
   "source": [
    "from scipy.special import softmax\n",
    "\n",
    "def get_similarity_score(image_features, text_features):\n",
    "    similarity = np.dot(image_features, text_features.T)\n",
    "\n",
    "    return similarity"
   ]
  },
  {
   "cell_type": "code",
   "execution_count": 10,
   "id": "9267c9db-6bf6-4c5b-b9b9-93294015baa0",
   "metadata": {},
   "outputs": [],
   "source": [
    "def calculate_similarity_score(image_features_norm,\n",
    "                               prompt_target_embedding_norm,\n",
    "                               prompt_ref_embedding_norm,\n",
    "                               temp=1,\n",
    "                               top_k=-1,\n",
    "                               normalize=True):\n",
    "\n",
    "    #rint(image_features_norm.shape)\n",
    "    #print(prompt_target_embedding_norm.shape)\n",
    "    #print(prompt_ref_embedding_norm.shape)\n",
    "\n",
    "    target_similarity = prompt_target_embedding_norm.float() @ image_features_norm.T.float()\n",
    "    ref_similarity = prompt_ref_embedding_norm.float() @ image_features_norm.T.float()\n",
    "\n",
    "\n",
    "    if top_k > 0:\n",
    "        idx_target = target_similarity.argsort(dim=1, descending=True)\n",
    "        target_similarity_mean = target_similarity[:,idx_target.squeeze()[:top_k]].mean(dim=1)\n",
    "        \n",
    "        ref_similarity_mean = ref_similarity.mean(dim=1)\n",
    "    else:\n",
    "        target_similarity_mean = target_similarity.mean(dim=1)\n",
    "        ref_similarity_mean = ref_similarity.mean(dim=1)\n",
    "    \n",
    "    if normalize:\n",
    "        similarity_score = scipy.special.softmax([target_similarity_mean.numpy(), ref_similarity_mean.numpy()], axis=0)[0, :].mean(axis=0)\n",
    "    else:\n",
    "        similarity_score = target_similarity_mean.mean(axis=0)\n",
    "\n",
    "    return similarity_score"
   ]
  },
  {
   "cell_type": "code",
   "execution_count": 26,
   "id": "d82b8832-b4d9-47c1-8e0f-4ad9ada6ae53",
   "metadata": {},
   "outputs": [
    {
     "name": "stdout",
     "output_type": "stream",
     "text": [
      "[INFO] DATASET: PH2\n",
      "[INFO] MODEL: ViT-L-14\n"
     ]
    }
   ],
   "source": [
    "# Get image embeddings \n",
    "print(f\"[INFO] DATASET: {DATASET}\")\n",
    "print(f\"[INFO] MODEL: {MODEL}\")\n",
    "RANDOM_SEED = 42\n",
    "N_SAMPLES = 80\n",
    "\n",
    "#img_embeddings = np.load(f\"img_embeddings/image_embeddings_{DATASET}_{MODEL}_{RANDOM_SEED}_Segmented_Norm.npy\", allow_pickle=True).item()\n",
    "img_embeddings = np.load(f\"img_embeddings/image_embeddings_{DATASET}_CLIP_{MODEL}_Segmented_Norm.npy\", allow_pickle=True).item()\n",
    "reference_embeddings = torch.from_numpy(np.load(f\"concept_embeddings/reference_embeddings_{MODEL}.npy\")).unsqueeze(0)\n",
    "#img_embeddings = np.load(f\"img_embeddings/image_embeddings_derm7pt_{MODEL}_{RANDOM_SEED}_{N_SAMPLES}_samples_per_class_Segmented_Norm.npy\", allow_pickle=True).item()\n",
    "#reference_embeddings = torch.from_numpy(np.load(f\"concept_embeddings/reference_embeddings_RN50x16.npy\")).unsqueeze(0)\n",
    "\n",
    "results = dict()\n",
    "# Iterate over images and calculate similarity\n",
    "for im in img_embeddings.keys():\n",
    "    img_feats = torch.from_numpy(img_embeddings[im]).unsqueeze(0)\n",
    "    #print(f\"IMG shape: {img_feats.shape}\")\n",
    "\n",
    "    similarity_scores = []\n",
    "    for disease_label in CLASS_LABELS_PROMPTS.keys():\n",
    "        #text_feats = torch.from_numpy(np.load(f\"text_embeddings/class_label_embeddings_{disease_label}_{DATASET}_{MODEL}_{RANDOM_SEED}.npy\")).unsqueeze(0)\n",
    "        #text_feats = torch.from_numpy(np.load(f\"text_embeddings/class_label_embeddings_{disease_label}_{DATASET}_{MODEL}.npy\")).unsqueeze(0)\n",
    "        text_feats = torch.from_numpy(np.load(f\"text_embeddings/class_label_embeddings_{disease_label}_{MODEL}.npy\")).unsqueeze(0)\n",
    "        #print(f\"TEXT shape: {text_feats.shape}\")\n",
    "\n",
    "        #similarity = get_similarity_score(img_feats, text_feats)\n",
    "        similarity = calculate_similarity_score(image_features_norm=img_feats,\n",
    "                                                prompt_target_embedding_norm=text_feats,\n",
    "                                                prompt_ref_embedding_norm=reference_embeddings,\n",
    "                                                top_k=-1,\n",
    "                                                temp=(1/np.exp(4.5944)),\n",
    "                                                normalize=True)\n",
    "\n",
    "        similarity_scores.append(similarity[0])\n",
    "\n",
    "    # Calculate prediction given weights of melanoma\n",
    "    results[im] = similarity_scores"
   ]
  },
  {
   "cell_type": "code",
   "execution_count": 27,
   "id": "42832ce5-76a9-41d6-a050-0dde5abd31f6",
   "metadata": {},
   "outputs": [
    {
     "name": "stdout",
     "output_type": "stream",
     "text": [
      "Threshold value is: 0.5005883\n",
      "              precision    recall  f1-score   support\n",
      "\n",
      "         NEV       1.00      0.60      0.75        20\n",
      "         MEL       0.38      1.00      0.56         5\n",
      "\n",
      "    accuracy                           0.68        25\n",
      "   macro avg       0.69      0.80      0.65        25\n",
      "weighted avg       0.88      0.68      0.71        25\n",
      "\n",
      "[[12  8]\n",
      " [ 0  5]]\n",
      "AUC: 0.87\n",
      "BACC: 0.8\n",
      "Sensitivity: 1.0\n",
      "Specificity: 0.6\n"
     ]
    }
   ],
   "source": [
    "# Evaluation\n",
    "from sklearn.metrics import classification_report, confusion_matrix, roc_curve, balanced_accuracy_score, auc\n",
    "\n",
    "if DATASET == \"PH2\":\n",
    "    gt = pd.read_csv(\"/home/cristianopatricio/Desktop/PhD/Datasets/Skin/PH2Dataset/PH2_dataset.csv\")\n",
    "    \n",
    "    train_images_df = pd.read_csv(\"/home/cristianopatricio/Desktop/PhD/Methods/CCNN_Pytorch/data/PH2_train.csv\")\n",
    "    train_images = train_images_df[\"images\"].tolist()\n",
    "    \n",
    "    valiadtion_images_df = pd.read_csv(\"/home/cristianopatricio/Desktop/PhD/Methods/CCNN_Pytorch/data/PH2_validation.csv\")\n",
    "    validation_images = valiadtion_images_df[\"images\"].tolist()\n",
    "    \n",
    "    test_images_df = pd.read_csv(\"/home/cristianopatricio/Desktop/PhD/Methods/CCNN_Pytorch/data/PH2_test.csv\")\n",
    "    test_images = test_images_df[\"images\"].tolist()\n",
    "\n",
    "elif DATASET == \"derm7pt\":\n",
    "    gt = pd.read_csv(\"/home/cristianopatricio/Desktop/PhD/Datasets/Skin/Derm7pt/image_classes_derm7pt.csv\")\n",
    "    \n",
    "    train_images_df = pd.read_csv(\"/home/cristianopatricio/Desktop/PhD/Methods/CCNN_Pytorch/data/derm7pt_train_seg.csv\")\n",
    "    train_images = train_images_df[\"images\"].tolist()\n",
    "    \n",
    "    valiadtion_images_df = pd.read_csv(\"/home/cristianopatricio/Desktop/PhD/Methods/CCNN_Pytorch/data/derm7pt_validation_seg.csv\")\n",
    "    validation_images = valiadtion_images_df[\"images\"].tolist()\n",
    "    \n",
    "    test_images_df = pd.read_csv(\"/home/cristianopatricio/Desktop/PhD/Methods/CCNN_Pytorch/data/derm7pt_test_seg.csv\")\n",
    "    test_images = test_images_df[\"images\"].tolist()\n",
    "\n",
    "y_true_val = []\n",
    "y_pred_probs_val = []\n",
    "for im in results.keys():\n",
    "\n",
    "    if str(im) in validation_images:\n",
    "        y_true_val.append(gt.loc[gt['images'] == str(im)]['labels'].tolist()[0])\n",
    "        y_pred_probs_val.append(np.max(results[im]))\n",
    "\n",
    "fpr, tpr, thresholds = roc_curve(y_true_val, y_pred_probs_val)\n",
    "optimal_idx = np.argmax(tpr - fpr)\n",
    "optimal_threshold = thresholds[optimal_idx]\n",
    "print(\"Threshold value is:\", optimal_threshold)\n",
    "\n",
    "y_true = []\n",
    "y_pred = []\n",
    "y_pred_probs = []\n",
    "for im in results.keys():\n",
    "    \n",
    "    if str(im) in test_images:\n",
    "        y_true.append(gt.loc[gt['images'] == str(im)]['labels'].tolist()[0])\n",
    "        y_pred.append(1 if np.max(results[im]) > optimal_threshold else 0)\n",
    "        y_pred_probs.append(np.max(results[im]))\n",
    "\n",
    "print(classification_report(y_true=y_true, y_pred=y_pred, target_names=[\"NEV\", \"MEL\"]))\n",
    "\n",
    "# Calculate the confusion matrix\n",
    "conf_matrix = confusion_matrix(y_true, y_pred)\n",
    "TP = conf_matrix[1][1]\n",
    "TN = conf_matrix[0][0]\n",
    "FP = conf_matrix[0][1]\n",
    "FN = conf_matrix[1][0]\n",
    "print(conf_matrix)\n",
    "\n",
    "# Calculate AUC score\n",
    "fpr, tpr, thresholds = roc_curve(y_true, y_pred_probs)\n",
    "roc_auc = auc(fpr, tpr)\n",
    "print(f\"AUC: {roc_auc}\")\n",
    "\n",
    "# BACC\n",
    "bacc = balanced_accuracy_score(y_true, y_pred)\n",
    "print(f\"BACC: {bacc}\")\n",
    "\n",
    "# Sensitivity\n",
    "SE = TP / (TP + FN)\n",
    "print(f\"Sensitivity: {SE}\")\n",
    "\n",
    "# Specificity\n",
    "SP = TN / (TN + FP)\n",
    "print(f\"Specificity: {SP}\")"
   ]
  },
  {
   "cell_type": "code",
   "execution_count": 22,
   "id": "ebdd92f2-e58b-40ad-a599-12d5c709fb74",
   "metadata": {},
   "outputs": [],
   "source": [
    "# function to add to JSON\n",
    "import json\n",
    "\n",
    "def write_json(new_data, filename='results_file.json'):\n",
    "    with open(filename,'r+') as file:\n",
    "          # First we load existing data into a dict.\n",
    "        file_data = json.load(file)\n",
    "        # Join new_data with file_data inside emp_details\n",
    "        file_data[DATASET].append(new_data)\n",
    "        # Sets file's current position at offset.\n",
    "        file.seek(0)\n",
    "        # convert back to json.\n",
    "        json.dump(file_data, file, indent = 4)\n",
    " \n",
    "# python object to be appended\n",
    "new_entry = {\"model\": MODEL + \"_\" + str(RANDOM_SEED) + \"_\" + str(N_SAMPLES) + \"_samples\",\n",
    "             \"AUC\": roc_auc,\n",
    "             \"BACC\": bacc,\n",
    "             \"SE\": SE,\n",
    "             \"SP\": SP\n",
    "            }\n",
    "     \n",
    "write_json(new_entry)"
   ]
  },
  {
   "cell_type": "code",
   "execution_count": 19,
   "id": "4217b33c-fc38-436e-a22e-059e7911288f",
   "metadata": {},
   "outputs": [
    {
     "data": {
      "image/png": "[encoded data removed]",
      "text/plain": [
       "<Figure size 1000x1000 with 1 Axes>"
      ]
     },
     "metadata": {},
     "output_type": "display_data"
    }
   ],
   "source": [
    "# Plot ROC AUC curve\n",
    "import matplotlib.pyplot as plt\n",
    "\n",
    "plt.subplots(1, figsize=(10,10))\n",
    "plt.title('ROC Curve - MEL/NEV classification')\n",
    "plt.plot(fpr, tpr)\n",
    "plt.plot([0, 1], ls=\"--\")\n",
    "plt.plot([0, 0], [1, 0] , c=\".7\"), plt.plot([1, 1] , c=\".7\")\n",
    "plt.ylabel('True Positive Rate')\n",
    "plt.xlabel('False Positive Rate')\n",
    "plt.show()"
   ]
  },
  {
   "cell_type": "code",
   "execution_count": null,
   "id": "6b509d7b-5cc1-4d5e-b0a1-6cdb64b75a79",
   "metadata": {},
   "outputs": [],
   "source": []
  },
  {
   "cell_type": "code",
   "execution_count": null,
   "id": "600aacdb-93be-47dd-9bb9-f2ed850ffc20",
   "metadata": {},
   "outputs": [],
   "source": []
  }
 ],
 "metadata": {
  "kernelspec": {
   "display_name": "Python 3 (ipykernel)",
   "language": "python",
   "name": "python3"
  },
  "language_info": {
   "codemirror_mode": {
    "name": "ipython",
    "version": 3
   },
   "file_extension": ".py",
   "mimetype": "text/x-python",
   "name": "python",
   "nbconvert_exporter": "python",
   "pygments_lexer": "ipython3",
   "version": "3.10.8"
  }
 },
 "nbformat": 4,
 "nbformat_minor": 5
}
