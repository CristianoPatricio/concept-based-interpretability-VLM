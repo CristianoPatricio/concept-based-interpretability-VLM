{
 "cells": [
  {
   "cell_type": "code",
   "execution_count": 1,
   "id": "5013f9fb-d099-41f3-bfa3-7939403bae9b",
   "metadata": {},
   "outputs": [],
   "source": [
    "import glob\n",
    "from timeit import default_timer as timer\n",
    "\n",
    "import torch\n",
    "import clip\n",
    "from PIL import Image\n",
    "\n",
    "import numpy as np\n",
    "import pandas as pd\n",
    "from tqdm import tqdm\n",
    "import os\n",
    "from pathlib import Path\n",
    "import matplotlib.pyplot as plt\n",
    "import scipy.special"
   ]
  },
  {
   "cell_type": "code",
   "execution_count": 2,
   "id": "94331173-6f32-4d81-b89b-4db23bdeca4b",
   "metadata": {},
   "outputs": [],
   "source": [
    "device = \"cuda\" if torch.cuda.is_available() else \"cpu\""
   ]
  },
  {
   "cell_type": "code",
   "execution_count": 35,
   "id": "c0a5da56-4dd9-4ea7-891b-80476b3d84c4",
   "metadata": {},
   "outputs": [],
   "source": [
    "# CONSTANTS\n",
    "MODEL = \"RN50x16\"\n",
    "DATASET = \"ISIC_2018\"\n",
    "ADDITIONAL_COMMENTS = \"CONCEPT_PROMPTS_8\""
   ]
  },
  {
   "cell_type": "code",
   "execution_count": 18,
   "id": "d347ce54-6c22-4b00-a056-da8468d8603b",
   "metadata": {},
   "outputs": [
    {
     "name": "stdout",
     "output_type": "stream",
     "text": [
      "[INFO] Loading model...\n",
      "[INFO] Model loaded successfully!\n"
     ]
    }
   ],
   "source": [
    "# 1. Load Model and Processor\n",
    "print(\"[INFO] Loading model...\")\n",
    "\n",
    "if MODEL == \"ViT-B-32\":\n",
    "    model, preprocess = clip.load(\"ViT-B/32\", device=device)\n",
    "elif MODEL == \"ViT-B-16\":\n",
    "    model, preprocess = clip.load(\"ViT-B/16\", device=device)\n",
    "elif MODEL == \"RN50\":\n",
    "    model, preprocess = clip.load(\"RN50\", device=device)\n",
    "elif MODEL == \"RN101\":\n",
    "    model, preprocess = clip.load(\"RN101\", device=device)\n",
    "elif MODEL == \"ViT-L-14\":\n",
    "    model, preprocess = clip.load(\"ViT-L/14\", device=device)\n",
    "elif MODEL == \"RN50x16\":\n",
    "    model, preprocess = clip.load(\"RN50x16\", device=device)\n",
    "elif MODEL == \"ViT-B-32-FT\":\n",
    "    model, preprocess = clip.load(\"ViT-B/32\", device=device)\n",
    "    checkpoint = torch.load(\"ft_models/model_D7PT.pt\")\n",
    "    model.load_state_dict(checkpoint['model_state_dict'])\n",
    "elif MODEL == \"ViT-B-16-FT\":\n",
    "    model, preprocess = clip.load(\"ViT-B/16\", device=device)\n",
    "    checkpoint = torch.load(\"ft_models/model_D7PT_ViT16.pt\")\n",
    "    model.load_state_dict(checkpoint['model_state_dict'])\n",
    "\n",
    "print(\"[INFO] Model loaded successfully!\")"
   ]
  },
  {
   "cell_type": "code",
   "execution_count": 19,
   "id": "91860e0c-e038-48f1-b84b-8c2d77704a40",
   "metadata": {},
   "outputs": [],
   "source": [
    "CONCEPT_PROMPTS_8 = {\n",
    "    \"TPN\": [\"This is dermatoscopy of typical pigment network\"],\n",
    "    \"APN\": [\"This is dermatoscopy of atypical pigment network\"],\n",
    "    \"ISTR\": [\"This is dermatoscopy of irregular streaks\"],\n",
    "    \"RSTR\": [\"This is dermatoscopy of regular streaks\"],\n",
    "    \"RDG\": [\"This is dermatoscopy of regular dots and globules\"],\n",
    "    \"IDG\": [\"This is dermatoscopy of irregular dots and globules\"],\n",
    "    \"BWV\": [\"This is dermatoscopy of blue-whitish veils\"],\n",
    "    \"RS\": [\"This is dermatoscopy of regression structures\"]\n",
    "}"
   ]
  },
  {
   "cell_type": "code",
   "execution_count": 20,
   "id": "9d4d7799-7adf-4f22-8d7b-f1378537fd76",
   "metadata": {},
   "outputs": [],
   "source": [
    "REFERENCE_CONCEPT_PROMPTS = [\"This is dermatoscopy\"]"
   ]
  },
  {
   "cell_type": "code",
   "execution_count": 21,
   "id": "195dbdf0-97af-4ef4-8f3f-28b6fa2db80f",
   "metadata": {
    "scrolled": true
   },
   "outputs": [
    {
     "name": "stdout",
     "output_type": "stream",
     "text": [
      "[INFO] Completed!\n"
     ]
    }
   ],
   "source": [
    "# Extract text features for each concept and save it to a numpy array\n",
    "for disease_label in CONCEPT_PROMPTS_8.keys():\n",
    "    text = clip.tokenize(CONCEPT_PROMPTS_8[disease_label]).to(device)\n",
    "\n",
    "    with torch.no_grad():\n",
    "        text_features = model.encode_text(text)\n",
    "    \n",
    "    text_features /= text_features.norm(dim=-1, keepdim=True)\n",
    "    \n",
    "    np.save(f\"text_embeddings/concept_8_embeddings_{disease_label}_{MODEL}.npy\", text_features.detach().cpu().numpy())\n",
    "print(\"[INFO] Completed!\")"
   ]
  },
  {
   "cell_type": "code",
   "execution_count": 22,
   "id": "b7ed9720-298f-4975-b3f4-d8af698cade3",
   "metadata": {},
   "outputs": [],
   "source": [
    "from scipy.special import softmax\n",
    "\n",
    "def get_similarity_score(image_features, text_features):\n",
    "    similarity = np.dot(image_features, text_features.T)\n",
    "\n",
    "    return similarity"
   ]
  },
  {
   "cell_type": "code",
   "execution_count": 23,
   "id": "9267c9db-6bf6-4c5b-b9b9-93294015baa0",
   "metadata": {},
   "outputs": [],
   "source": [
    "def calculate_similarity_score(image_features_norm,\n",
    "                               prompt_target_embedding_norm,\n",
    "                               prompt_ref_embedding_norm,\n",
    "                               temp=1,\n",
    "                               top_k=-1,\n",
    "                               normalize=True):\n",
    "\n",
    "    #print(image_features_norm.shape)\n",
    "    #print(prompt_target_embedding_norm.shape)\n",
    "    #print(prompt_ref_embedding_norm.shape)\n",
    "\n",
    "    target_similarity = prompt_target_embedding_norm.float() @ image_features_norm.T.float()\n",
    "    ref_similarity = prompt_ref_embedding_norm.float() @ image_features_norm.T.float()\n",
    "\n",
    "\n",
    "    if top_k > 0:\n",
    "        idx_target = target_similarity.argsort(dim=1, descending=True)\n",
    "        target_similarity_mean = target_similarity[:,idx_target.squeeze()[:top_k]].mean(dim=1)\n",
    "        \n",
    "        ref_similarity_mean = ref_similarity.mean(dim=1)\n",
    "    else:\n",
    "        target_similarity_mean = target_similarity.mean(dim=1)\n",
    "        ref_similarity_mean = ref_similarity.mean(dim=1)\n",
    "    \n",
    "    if normalize:\n",
    "        similarity_score = scipy.special.softmax([target_similarity_mean.numpy(), ref_similarity_mean.numpy()], axis=0)[0, :].mean(axis=0)\n",
    "    else:\n",
    "        similarity_score = target_similarity_mean.mean(axis=0)\n",
    "\n",
    "    return similarity_score"
   ]
  },
  {
   "cell_type": "code",
   "execution_count": 36,
   "id": "d82b8832-b4d9-47c1-8e0f-4ad9ada6ae53",
   "metadata": {},
   "outputs": [
    {
     "name": "stdout",
     "output_type": "stream",
     "text": [
      "[INFO] DATASET: ISIC_2018\n",
      "[INFO] MODEL: RN50x16\n"
     ]
    }
   ],
   "source": [
    "# Get image embeddings \n",
    "print(f\"[INFO] DATASET: {DATASET}\")\n",
    "print(f\"[INFO] MODEL: {MODEL}\")\n",
    "\n",
    "img_embeddings = np.load(f\"img_embeddings/image_embeddings_{DATASET}_CLIP_{MODEL}_Original.npy\", allow_pickle=True).item()\n",
    "reference_embeddings = torch.from_numpy(np.load(f\"concept_embeddings/reference_embeddings_{MODEL}.npy\")).unsqueeze(0)\n",
    "weights_melanoma = np.load(\"/home/cristianopatricio/Desktop/PhD/Datasets/Skin/PH2Dataset/19-JUL-2023/log_reg_coefs_PH2_8_concepts.npy\") # (1, 8)\n",
    "\n",
    "results = dict()\n",
    "# Iterate over images and calculate similarity\n",
    "for im in img_embeddings.keys():\n",
    "    img_feats = torch.from_numpy(img_embeddings[im]).unsqueeze(0)\n",
    "    #print(f\"IMG shape: {img_feats.shape}\")\n",
    "\n",
    "    similarity_scores = []\n",
    "    for disease_label in CONCEPT_PROMPTS_8.keys():\n",
    "        text_feats = torch.from_numpy(np.load(f\"text_embeddings/concept_8_embeddings_{disease_label}_{MODEL}.npy\")).unsqueeze(0)\n",
    "        #print(f\"TEXT shape: {text_feats.shape}\")\n",
    "\n",
    "        #similarity = get_similarity_score(img_feats, text_feats)\n",
    "        similarity = calculate_similarity_score(image_features_norm=img_feats,\n",
    "                                                prompt_target_embedding_norm=text_feats,\n",
    "                                                prompt_ref_embedding_norm=reference_embeddings,\n",
    "                                                top_k=-1,\n",
    "                                                temp=(1/np.exp(4.5944)))\n",
    "\n",
    "        similarity_scores.append(similarity[0])\n",
    "\n",
    "    # Calculate prediction given weights of melanoma\n",
    "    y_pred = np.dot(weights_melanoma, np.array(similarity_scores))\n",
    "    results[im] = y_pred"
   ]
  },
  {
   "cell_type": "code",
   "execution_count": 37,
   "id": "42832ce5-76a9-41d6-a050-0dde5abd31f6",
   "metadata": {},
   "outputs": [
    {
     "name": "stdout",
     "output_type": "stream",
     "text": [
      "Threshold value is: 1.8989595729385598\n",
      "              precision    recall  f1-score   support\n",
      "\n",
      "         MEL       0.92      0.61      0.74      1340\n",
      "         NEV       0.16      0.56      0.24       171\n",
      "\n",
      "    accuracy                           0.61      1511\n",
      "   macro avg       0.54      0.59      0.49      1511\n",
      "weighted avg       0.83      0.61      0.68      1511\n",
      "\n",
      "[[824 516]\n",
      " [ 76  95]]\n",
      "AUC: 0.5961682814000174\n",
      "BACC: 0.585240464344942\n",
      "Sensitivity: 0.5555555555555556\n",
      "Specificity: 0.6149253731343284\n"
     ]
    }
   ],
   "source": [
    "# Evaluation\n",
    "from sklearn.metrics import classification_report, confusion_matrix, roc_curve, balanced_accuracy_score, auc\n",
    "\n",
    "if DATASET == \"PH2\":\n",
    "    gt = pd.read_csv(\"/home/cristianopatricio/Desktop/PhD/Datasets/Skin/PH2Dataset/PH2_dataset.csv\")\n",
    "    \n",
    "    train_images_df = pd.read_csv(\"/home/cristianopatricio/Desktop/PhD/Methods/CCNN_Pytorch/data/PH2_train.csv\")\n",
    "    train_images = train_images_df[\"images\"].tolist()\n",
    "    \n",
    "    valiadtion_images_df = pd.read_csv(\"/home/cristianopatricio/Desktop/PhD/Methods/CCNN_Pytorch/data/PH2_validation.csv\")\n",
    "    validation_images = valiadtion_images_df[\"images\"].tolist()\n",
    "    \n",
    "    test_images_df = pd.read_csv(\"/home/cristianopatricio/Desktop/PhD/Methods/CCNN_Pytorch/data/PH2_test.csv\")\n",
    "    test_images = test_images_df[\"images\"].tolist()\n",
    "\n",
    "elif DATASET == \"derm7pt\":\n",
    "    gt = pd.read_csv(\"/home/cristianopatricio/Desktop/PhD/Datasets/Skin/Derm7pt/image_classes_derm7pt.csv\")\n",
    "    \n",
    "    train_images_df = pd.read_csv(\"/home/cristianopatricio/Desktop/PhD/Methods/CCNN_Pytorch/data/derm7pt_train_seg.csv\")\n",
    "    train_images = train_images_df[\"images\"].tolist()\n",
    "    \n",
    "    valiadtion_images_df = pd.read_csv(\"/home/cristianopatricio/Desktop/PhD/Methods/CCNN_Pytorch/data/derm7pt_validation_seg.csv\")\n",
    "    validation_images = valiadtion_images_df[\"images\"].tolist()\n",
    "    \n",
    "    test_images_df = pd.read_csv(\"/home/cristianopatricio/Desktop/PhD/Methods/CCNN_Pytorch/data/derm7pt_test_seg.csv\")\n",
    "    test_images = test_images_df[\"images\"].tolist()\n",
    "\n",
    "elif DATASET == \"ISIC_2018\":\n",
    "    gt = pd.read_csv(\"/home/cristianopatricio/Desktop/PhD/Datasets/Skin/HAM10000/image_classes_ISIC_2018.csv\")\n",
    "    \n",
    "    train_images_df = pd.read_csv(\"/home/cristianopatricio/Desktop/PhD/Datasets/Skin/HAM10000/ISIC_2018_train.csv\")\n",
    "    train_images = train_images_df[\"images\"].tolist()\n",
    "    \n",
    "    valiadtion_images_df = pd.read_csv(\"/home/cristianopatricio/Desktop/PhD/Datasets/Skin/HAM10000/ISIC_2018_validation.csv\")\n",
    "    validation_images = valiadtion_images_df[\"images\"].tolist()\n",
    "    \n",
    "    test_images_df = pd.read_csv(\"/home/cristianopatricio/Desktop/PhD/Datasets/Skin/HAM10000/ISIC_2018_test.csv\")\n",
    "    test_images = test_images_df[\"images\"].tolist()\n",
    "    \n",
    "y_true_val = []\n",
    "y_pred_probs_val = []\n",
    "for im in results.keys():\n",
    "\n",
    "    if str(im) in validation_images:\n",
    "        if DATASET == \"ISIC_2018\":\n",
    "            y_true_val.append(1 if gt.loc[gt['images'] == str(im)]['labels'].tolist()[0] == 3 else 0)\n",
    "        else:\n",
    "            y_true_val.append(gt.loc[gt['images'] == str(im)]['labels'].tolist()[0])\n",
    "        y_pred_probs_val.append(results[im])\n",
    "\n",
    "fpr, tpr, thresholds = roc_curve(y_true_val, y_pred_probs_val)\n",
    "optimal_idx = np.argmax(tpr - fpr)\n",
    "optimal_threshold = thresholds[optimal_idx]\n",
    "print(\"Threshold value is:\", optimal_threshold)\n",
    "\n",
    "y_true = []\n",
    "y_pred = []\n",
    "y_pred_probs = []\n",
    "for im in results.keys():\n",
    "    \n",
    "    if str(im) in test_images:\n",
    "        if DATASET == \"ISIC_2018\":\n",
    "            y_true.append(1 if gt.loc[gt['images'] == str(im)]['labels'].tolist()[0] == 3 else 0)\n",
    "        else:\n",
    "            y_true.append(gt.loc[gt['images'] == str(im)]['labels'].tolist()[0])\n",
    "        y_pred.append(1 if results[im] > optimal_threshold else 0)\n",
    "        y_pred_probs.append(results[im])\n",
    "\n",
    "print(classification_report(y_true=y_true, y_pred=y_pred, target_names=[\"MEL\", \"NEV\"]))\n",
    "\n",
    "# Calculate the confusion matrix\n",
    "conf_matrix = confusion_matrix(y_true, y_pred)\n",
    "TP = conf_matrix[1][1]\n",
    "TN = conf_matrix[0][0]\n",
    "FP = conf_matrix[0][1]\n",
    "FN = conf_matrix[1][0]\n",
    "print(conf_matrix)\n",
    "\n",
    "# Calculate AUC score\n",
    "fpr, tpr, thresholds = roc_curve(y_true, y_pred_probs)\n",
    "roc_auc = auc(fpr, tpr)\n",
    "print(f\"AUC: {roc_auc}\")\n",
    "\n",
    "# BACC\n",
    "bacc = balanced_accuracy_score(y_true, y_pred)\n",
    "print(f\"BACC: {bacc}\")\n",
    "\n",
    "# Sensitivity\n",
    "SE = TP / (TP + FN)\n",
    "print(f\"Sensitivity: {SE}\")\n",
    "\n",
    "# Specificity\n",
    "SP = TN / (TN + FP)\n",
    "print(f\"Specificity: {SP}\")"
   ]
  },
  {
   "cell_type": "code",
   "execution_count": 38,
   "id": "4217b33c-fc38-436e-a22e-059e7911288f",
   "metadata": {},
   "outputs": [
    {
     "data": {
      "image/png": "[encoded data removed]",
      "text/plain": [
       "<Figure size 1000x1000 with 1 Axes>"
      ]
     },
     "metadata": {},
     "output_type": "display_data"
    }
   ],
   "source": [
    "# Plot ROC AUC curve\n",
    "import matplotlib.pyplot as plt\n",
    "\n",
    "plt.subplots(1, figsize=(10,10))\n",
    "plt.title('ROC Curve - MEL/NEV classification')\n",
    "plt.plot(fpr, tpr)\n",
    "plt.plot([0, 1], ls=\"--\")\n",
    "plt.plot([0, 0], [1, 0] , c=\".7\"), plt.plot([1, 1] , c=\".7\")\n",
    "plt.ylabel('True Positive Rate')\n",
    "plt.xlabel('False Positive Rate')\n",
    "plt.show()"
   ]
  },
  {
   "cell_type": "code",
   "execution_count": null,
   "id": "6b509d7b-5cc1-4d5e-b0a1-6cdb64b75a79",
   "metadata": {},
   "outputs": [],
   "source": []
  },
  {
   "cell_type": "code",
   "execution_count": null,
   "id": "ef3238d4-9711-4c9f-b859-8537424afa90",
   "metadata": {},
   "outputs": [],
   "source": []
  }
 ],
 "metadata": {
  "kernelspec": {
   "display_name": "Python 3 (ipykernel)",
   "language": "python",
   "name": "python3"
  },
  "language_info": {
   "codemirror_mode": {
    "name": "ipython",
    "version": 3
   },
   "file_extension": ".py",
   "mimetype": "text/x-python",
   "name": "python",
   "nbconvert_exporter": "python",
   "pygments_lexer": "ipython3",
   "version": "3.10.8"
  }
 },
 "nbformat": 4,
 "nbformat_minor": 5
}
